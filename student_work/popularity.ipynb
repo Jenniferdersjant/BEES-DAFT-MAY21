{
 "cells": [
  {
   "cell_type": "code",
   "execution_count": 2,
   "id": "693290a1",
   "metadata": {},
   "outputs": [],
   "source": [
    "import pandas as pd \n",
    "import warnings\n",
    "warnings.filterwarnings(\"ignore\")"
   ]
  },
  {
   "cell_type": "code",
   "execution_count": 3,
   "id": "9bfcec46",
   "metadata": {},
   "outputs": [],
   "source": [
    "pop=pd.read_csv('archive/popularity.csv', usecols=[\"country\",\"date\",\"position\",\"title\"])"
   ]
  },
  {
   "cell_type": "code",
   "execution_count": 4,
   "id": "5dcf914b",
   "metadata": {},
   "outputs": [],
   "source": [
    "#filter to global only \n",
    "pop_global=pop[pop['country']=='Global']"
   ]
  },
  {
   "cell_type": "code",
   "execution_count": 5,
   "id": "f1a40ade",
   "metadata": {},
   "outputs": [
    {
     "data": {
      "text/plain": [
       "(280200, 4)"
      ]
     },
     "execution_count": 5,
     "metadata": {},
     "output_type": "execute_result"
    }
   ],
   "source": [
    "pop_global.shape"
   ]
  },
  {
   "cell_type": "code",
   "execution_count": 6,
   "id": "44baf71e",
   "metadata": {},
   "outputs": [
    {
     "data": {
      "text/plain": [
       "country      object\n",
       "date         object\n",
       "position    float64\n",
       "title        object\n",
       "dtype: object"
      ]
     },
     "execution_count": 6,
     "metadata": {},
     "output_type": "execute_result"
    }
   ],
   "source": [
    "pop_global.dtypes"
   ]
  },
  {
   "cell_type": "code",
   "execution_count": 7,
   "id": "3c583d9a",
   "metadata": {},
   "outputs": [],
   "source": [
    "pop_global.reset_index(drop=True, inplace=True)"
   ]
  },
  {
   "cell_type": "code",
   "execution_count": 8,
   "id": "5ab37d6b",
   "metadata": {},
   "outputs": [
    {
     "name": "stdout",
     "output_type": "stream",
     "text": [
      "<class 'pandas.core.frame.DataFrame'>\n",
      "RangeIndex: 280200 entries, 0 to 280199\n",
      "Data columns (total 4 columns):\n",
      " #   Column    Non-Null Count   Dtype  \n",
      "---  ------    --------------   -----  \n",
      " 0   country   280200 non-null  object \n",
      " 1   date      280200 non-null  object \n",
      " 2   position  280200 non-null  float64\n",
      " 3   title     280200 non-null  object \n",
      "dtypes: float64(1), object(3)\n",
      "memory usage: 8.6+ MB\n"
     ]
    }
   ],
   "source": [
    "pop_global.info()"
   ]
  },
  {
   "cell_type": "code",
   "execution_count": 9,
   "id": "1e448880",
   "metadata": {},
   "outputs": [
    {
     "data": {
      "text/html": [
       "<div>\n",
       "<style scoped>\n",
       "    .dataframe tbody tr th:only-of-type {\n",
       "        vertical-align: middle;\n",
       "    }\n",
       "\n",
       "    .dataframe tbody tr th {\n",
       "        vertical-align: top;\n",
       "    }\n",
       "\n",
       "    .dataframe thead th {\n",
       "        text-align: right;\n",
       "    }\n",
       "</style>\n",
       "<table border=\"1\" class=\"dataframe\">\n",
       "  <thead>\n",
       "    <tr style=\"text-align: right;\">\n",
       "      <th></th>\n",
       "      <th>country</th>\n",
       "      <th>date</th>\n",
       "      <th>position</th>\n",
       "      <th>title</th>\n",
       "    </tr>\n",
       "  </thead>\n",
       "  <tbody>\n",
       "    <tr>\n",
       "      <th>0</th>\n",
       "      <td>Global</td>\n",
       "      <td>05/11/2020</td>\n",
       "      <td>1.0</td>\n",
       "      <td>Dakiti</td>\n",
       "    </tr>\n",
       "    <tr>\n",
       "      <th>1</th>\n",
       "      <td>Global</td>\n",
       "      <td>05/11/2020</td>\n",
       "      <td>2.0</td>\n",
       "      <td>positions</td>\n",
       "    </tr>\n",
       "    <tr>\n",
       "      <th>2</th>\n",
       "      <td>Global</td>\n",
       "      <td>05/11/2020</td>\n",
       "      <td>3.0</td>\n",
       "      <td>Mood</td>\n",
       "    </tr>\n",
       "    <tr>\n",
       "      <th>3</th>\n",
       "      <td>Global</td>\n",
       "      <td>05/11/2020</td>\n",
       "      <td>4.0</td>\n",
       "      <td>Lemonade</td>\n",
       "    </tr>\n",
       "    <tr>\n",
       "      <th>4</th>\n",
       "      <td>Global</td>\n",
       "      <td>05/11/2020</td>\n",
       "      <td>5.0</td>\n",
       "      <td>Lonely</td>\n",
       "    </tr>\n",
       "  </tbody>\n",
       "</table>\n",
       "</div>"
      ],
      "text/plain": [
       "  country        date  position        title\n",
       "0  Global  05/11/2020       1.0      Dakiti \n",
       "1  Global  05/11/2020       2.0   positions \n",
       "2  Global  05/11/2020       3.0       Mood  \n",
       "3  Global  05/11/2020       4.0   Lemonade  \n",
       "4  Global  05/11/2020       5.0     Lonely  "
      ]
     },
     "execution_count": 9,
     "metadata": {},
     "output_type": "execute_result"
    }
   ],
   "source": [
    "pop_global.head()"
   ]
  },
  {
   "cell_type": "code",
   "execution_count": 10,
   "id": "61d78802",
   "metadata": {},
   "outputs": [
    {
     "data": {
      "text/html": [
       "<div>\n",
       "<style scoped>\n",
       "    .dataframe tbody tr th:only-of-type {\n",
       "        vertical-align: middle;\n",
       "    }\n",
       "\n",
       "    .dataframe tbody tr th {\n",
       "        vertical-align: top;\n",
       "    }\n",
       "\n",
       "    .dataframe thead th {\n",
       "        text-align: right;\n",
       "    }\n",
       "</style>\n",
       "<table border=\"1\" class=\"dataframe\">\n",
       "  <thead>\n",
       "    <tr style=\"text-align: right;\">\n",
       "      <th></th>\n",
       "      <th>country</th>\n",
       "      <th>date</th>\n",
       "      <th>position</th>\n",
       "      <th>title</th>\n",
       "    </tr>\n",
       "  </thead>\n",
       "  <tbody>\n",
       "  </tbody>\n",
       "</table>\n",
       "</div>"
      ],
      "text/plain": [
       "Empty DataFrame\n",
       "Columns: [country, date, position, title]\n",
       "Index: []"
      ]
     },
     "execution_count": 10,
     "metadata": {},
     "output_type": "execute_result"
    }
   ],
   "source": [
    "#check queries work on title name \n",
    "pop_global[(pop_global.title == \"Dakiti\")]"
   ]
  },
  {
   "cell_type": "code",
   "execution_count": 11,
   "id": "ba482aa4",
   "metadata": {},
   "outputs": [],
   "source": [
    "#remove white space etc from the title field \n",
    "\n",
    "pop_global['title'] = pop_global['title'].str.strip()"
   ]
  },
  {
   "cell_type": "code",
   "execution_count": 12,
   "id": "d0be3fb0",
   "metadata": {},
   "outputs": [
    {
     "data": {
      "text/html": [
       "<div>\n",
       "<style scoped>\n",
       "    .dataframe tbody tr th:only-of-type {\n",
       "        vertical-align: middle;\n",
       "    }\n",
       "\n",
       "    .dataframe tbody tr th {\n",
       "        vertical-align: top;\n",
       "    }\n",
       "\n",
       "    .dataframe thead th {\n",
       "        text-align: right;\n",
       "    }\n",
       "</style>\n",
       "<table border=\"1\" class=\"dataframe\">\n",
       "  <thead>\n",
       "    <tr style=\"text-align: right;\">\n",
       "      <th></th>\n",
       "      <th>country</th>\n",
       "      <th>date</th>\n",
       "      <th>position</th>\n",
       "      <th>title</th>\n",
       "    </tr>\n",
       "  </thead>\n",
       "  <tbody>\n",
       "    <tr>\n",
       "      <th>0</th>\n",
       "      <td>Global</td>\n",
       "      <td>05/11/2020</td>\n",
       "      <td>1.0</td>\n",
       "      <td>Dakiti</td>\n",
       "    </tr>\n",
       "    <tr>\n",
       "      <th>200</th>\n",
       "      <td>Global</td>\n",
       "      <td>04/11/2020</td>\n",
       "      <td>1.0</td>\n",
       "      <td>Dakiti</td>\n",
       "    </tr>\n",
       "    <tr>\n",
       "      <th>400</th>\n",
       "      <td>Global</td>\n",
       "      <td>03/11/2020</td>\n",
       "      <td>1.0</td>\n",
       "      <td>Dakiti</td>\n",
       "    </tr>\n",
       "    <tr>\n",
       "      <th>601</th>\n",
       "      <td>Global</td>\n",
       "      <td>02/11/2020</td>\n",
       "      <td>2.0</td>\n",
       "      <td>Dakiti</td>\n",
       "    </tr>\n",
       "    <tr>\n",
       "      <th>802</th>\n",
       "      <td>Global</td>\n",
       "      <td>01/11/2020</td>\n",
       "      <td>3.0</td>\n",
       "      <td>Dakiti</td>\n",
       "    </tr>\n",
       "    <tr>\n",
       "      <th>1002</th>\n",
       "      <td>Global</td>\n",
       "      <td>31/10/2020</td>\n",
       "      <td>3.0</td>\n",
       "      <td>Dakiti</td>\n",
       "    </tr>\n",
       "    <tr>\n",
       "      <th>1208</th>\n",
       "      <td>Global</td>\n",
       "      <td>30/10/2020</td>\n",
       "      <td>9.0</td>\n",
       "      <td>Dakiti</td>\n",
       "    </tr>\n",
       "  </tbody>\n",
       "</table>\n",
       "</div>"
      ],
      "text/plain": [
       "     country        date  position   title\n",
       "0     Global  05/11/2020       1.0  Dakiti\n",
       "200   Global  04/11/2020       1.0  Dakiti\n",
       "400   Global  03/11/2020       1.0  Dakiti\n",
       "601   Global  02/11/2020       2.0  Dakiti\n",
       "802   Global  01/11/2020       3.0  Dakiti\n",
       "1002  Global  31/10/2020       3.0  Dakiti\n",
       "1208  Global  30/10/2020       9.0  Dakiti"
      ]
     },
     "execution_count": 12,
     "metadata": {},
     "output_type": "execute_result"
    }
   ],
   "source": [
    "#check queries work on title name \n",
    "pop_global[(pop_global.title == \"Dakiti\")]"
   ]
  },
  {
   "cell_type": "code",
   "execution_count": 13,
   "id": "1e782182",
   "metadata": {},
   "outputs": [],
   "source": [
    "# how many dates do we have in the db \n",
    "pop_global['date'] = pd.to_datetime(pop_global['date'])"
   ]
  },
  {
   "cell_type": "code",
   "execution_count": 14,
   "id": "c466fba3",
   "metadata": {},
   "outputs": [
    {
     "data": {
      "text/plain": [
       "Timestamp('2017-01-01 00:00:00')"
      ]
     },
     "execution_count": 14,
     "metadata": {},
     "output_type": "execute_result"
    }
   ],
   "source": [
    "min(pop_global['date'])"
   ]
  },
  {
   "cell_type": "code",
   "execution_count": 15,
   "id": "46da9bb5",
   "metadata": {},
   "outputs": [
    {
     "data": {
      "text/plain": [
       "Timestamp('2020-12-10 00:00:00')"
      ]
     },
     "execution_count": 15,
     "metadata": {},
     "output_type": "execute_result"
    }
   ],
   "source": [
    "max(pop_global['date'])"
   ]
  },
  {
   "cell_type": "code",
   "execution_count": null,
   "id": "ea09d881",
   "metadata": {},
   "outputs": [],
   "source": []
  }
 ],
 "metadata": {
  "kernelspec": {
   "display_name": "Python 3",
   "language": "python",
   "name": "python3"
  },
  "language_info": {
   "codemirror_mode": {
    "name": "ipython",
    "version": 3
   },
   "file_extension": ".py",
   "mimetype": "text/x-python",
   "name": "python",
   "nbconvert_exporter": "python",
   "pygments_lexer": "ipython3",
   "version": "3.9.4"
  },
  "toc": {
   "base_numbering": 1,
   "nav_menu": {},
   "number_sections": true,
   "sideBar": true,
   "skip_h1_title": false,
   "title_cell": "Table of Contents",
   "title_sidebar": "Contents",
   "toc_cell": false,
   "toc_position": {},
   "toc_section_display": true,
   "toc_window_display": false
  },
  "varInspector": {
   "cols": {
    "lenName": 16,
    "lenType": 16,
    "lenVar": 40
   },
   "kernels_config": {
    "python": {
     "delete_cmd_postfix": "",
     "delete_cmd_prefix": "del ",
     "library": "var_list.py",
     "varRefreshCmd": "print(var_dic_list())"
    },
    "r": {
     "delete_cmd_postfix": ") ",
     "delete_cmd_prefix": "rm(",
     "library": "var_list.r",
     "varRefreshCmd": "cat(var_dic_list()) "
    }
   },
   "types_to_exclude": [
    "module",
    "function",
    "builtin_function_or_method",
    "instance",
    "_Feature"
   ],
   "window_display": false
  }
 },
 "nbformat": 4,
 "nbformat_minor": 5
}
